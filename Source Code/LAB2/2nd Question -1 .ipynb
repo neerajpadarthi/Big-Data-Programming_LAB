{
 "cells": [
  {
   "cell_type": "code",
   "execution_count": 58,
   "metadata": {},
   "outputs": [],
   "source": [
    "from pyspark.sql import SparkSession\n",
    "from pyspark.sql import *\n",
    "from pyspark.sql.types import DoubleType,IntegerType\n",
    "import pyspark.sql.functions as F\n",
    "\n",
    "spark = SparkSession \\\n",
    "    .builder \\\n",
    "    .appName(\"Python Spark SQL basic example\") \\\n",
    "    .getOrCreate()\n",
    "\n",
    "df  = spark.read.csv(\"WorldCupMatches.csv\", header=True)"
   ]
  },
  {
   "cell_type": "code",
   "execution_count": 59,
   "metadata": {},
   "outputs": [
    {
     "name": "stdout",
     "output_type": "stream",
     "text": [
      "+----+--------------------+-----------------+--------------------+-----------+--------------+---------------+---------------+--------------+--------------------+----------+--------------------+--------------------+--------------------+--------------------+--------------------+-------+-------+------------------+------------------+\n",
      "|Year|            Datetime|            Stage|             Stadium|       City|Home Team Name|Home Team Goals|Away Team Goals|Away Team Name|      Win conditions|Attendance|Half-time Home Goals|Half-time Away Goals|             Referee|         Assistant 1|         Assistant 2|RoundID|MatchID|Home Team Initials|Away Team Initials|\n",
      "+----+--------------------+-----------------+--------------------+-----------+--------------+---------------+---------------+--------------+--------------------+----------+--------------------+--------------------+--------------------+--------------------+--------------------+-------+-------+------------------+------------------+\n",
      "|1930|13 Jul 1930 - 15:00 |          Group 1|             Pocitos|Montevideo |        France|              4|              1|        Mexico|                    |      4444|                   3|                   0|LOMBARDI Domingo ...|CRISTOPHE Henry (...| REGO Gilberto (BRA)|    201|   1096|               FRA|               MEX|\n",
      "|1930|13 Jul 1930 - 15:00 |          Group 4|      Parque Central|Montevideo |           USA|              3|              0|       Belgium|                    |     18346|                   2|                   0|   MACIAS Jose (ARG)|MATEUCCI Francisc...|WARNKEN Alberto (...|    201|   1090|               USA|               BEL|\n",
      "|1930|14 Jul 1930 - 12:45 |          Group 2|      Parque Central|Montevideo |    Yugoslavia|              2|              1|        Brazil|                    |     24059|                   2|                   0| TEJADA Anibal (URU)|VALLARINO Ricardo...| BALWAY Thomas (FRA)|    201|   1093|               YUG|               BRA|\n",
      "|1930|14 Jul 1930 - 14:50 |          Group 3|             Pocitos|Montevideo |       Romania|              3|              1|          Peru|                    |      2549|                   1|                   0|WARNKEN Alberto (...| LANGENUS Jean (BEL)|MATEUCCI Francisc...|    201|   1098|               ROU|               PER|\n",
      "|1930|15 Jul 1930 - 16:00 |          Group 1|      Parque Central|Montevideo |     Argentina|              1|              0|        France|                    |     23409|                   0|                   0| REGO Gilberto (BRA)|SAUCEDO Ulises (BOL)|RADULESCU Constan...|    201|   1085|               ARG|               FRA|\n",
      "|1930|16 Jul 1930 - 14:45 |          Group 1|      Parque Central|Montevideo |         Chile|              3|              0|        Mexico|                    |      9249|                   1|                   0|CRISTOPHE Henry (...|APHESTEGUY Martin...| LANGENUS Jean (BEL)|    201|   1095|               CHI|               MEX|\n",
      "|1930|17 Jul 1930 - 12:45 |          Group 2|      Parque Central|Montevideo |    Yugoslavia|              4|              0|       Bolivia|                    |     18306|                   0|                   0|MATEUCCI Francisc...|LOMBARDI Domingo ...|WARNKEN Alberto (...|    201|   1092|               YUG|               BOL|\n",
      "|1930|17 Jul 1930 - 14:45 |          Group 4|      Parque Central|Montevideo |           USA|              3|              0|      Paraguay|                    |     18306|                   2|                   0|   MACIAS Jose (ARG)|APHESTEGUY Martin...| TEJADA Anibal (URU)|    201|   1097|               USA|               PAR|\n",
      "|1930|18 Jul 1930 - 14:30 |          Group 3|  Estadio Centenario|Montevideo |       Uruguay|              1|              0|          Peru|                    |     57735|                   0|                   0| LANGENUS Jean (BEL)| BALWAY Thomas (FRA)|CRISTOPHE Henry (...|    201|   1099|               URU|               PER|\n",
      "|1930|19 Jul 1930 - 12:50 |          Group 1|  Estadio Centenario|Montevideo |         Chile|              1|              0|        France|                    |      2000|                   0|                   0| TEJADA Anibal (URU)|LOMBARDI Domingo ...| REGO Gilberto (BRA)|    201|   1094|               CHI|               FRA|\n",
      "|1930|19 Jul 1930 - 15:00 |          Group 1|  Estadio Centenario|Montevideo |     Argentina|              6|              3|        Mexico|                    |     42100|                   3|                   1|SAUCEDO Ulises (BOL)|ALONSO Gualberto ...|RADULESCU Constan...|    201|   1086|               ARG|               MEX|\n",
      "|1930|20 Jul 1930 - 13:00 |          Group 2|  Estadio Centenario|Montevideo |        Brazil|              4|              0|       Bolivia|                    |     25466|                   1|                   0| BALWAY Thomas (FRA)|MATEUCCI Francisc...|VALLEJO Gaspar (MEX)|    201|   1091|               BRA|               BOL|\n",
      "|1930|20 Jul 1930 - 15:00 |          Group 4|  Estadio Centenario|Montevideo |      Paraguay|              1|              0|       Belgium|                    |     12000|                   1|                   0|VALLARINO Ricardo...|   MACIAS Jose (ARG)|LOMBARDI Domingo ...|    201|   1089|               PAR|               BEL|\n",
      "|1930|21 Jul 1930 - 14:50 |          Group 3|  Estadio Centenario|Montevideo |       Uruguay|              4|              0|       Romania|                    |     70022|                   4|                   0| REGO Gilberto (BRA)|WARNKEN Alberto (...|SAUCEDO Ulises (BOL)|    201|   1100|               URU|               ROU|\n",
      "|1930|22 Jul 1930 - 14:45 |          Group 1|  Estadio Centenario|Montevideo |     Argentina|              3|              1|         Chile|                    |     41459|                   2|                   1| LANGENUS Jean (BEL)|CRISTOPHE Henry (...|SAUCEDO Ulises (BOL)|    201|   1084|               ARG|               CHI|\n",
      "|1930|26 Jul 1930 - 14:45 |      Semi-finals|  Estadio Centenario|Montevideo |     Argentina|              6|              1|           USA|                    |     72886|                   1|                   0| LANGENUS Jean (BEL)|VALLEJO Gaspar (MEX)|WARNKEN Alberto (...|    202|   1088|               ARG|               USA|\n",
      "|1930|27 Jul 1930 - 14:45 |      Semi-finals|  Estadio Centenario|Montevideo |       Uruguay|              6|              1|    Yugoslavia|                    |     79867|                   3|                   1| REGO Gilberto (BRA)|SAUCEDO Ulises (BOL)| BALWAY Thomas (FRA)|    202|   1101|               URU|               YUG|\n",
      "|1930|30 Jul 1930 - 14:15 |            Final|  Estadio Centenario|Montevideo |       Uruguay|              4|              2|     Argentina|                    |     68346|                   1|                   2| LANGENUS Jean (BEL)|SAUCEDO Ulises (BOL)|CRISTOPHE Henry (...|    405|   1087|               URU|               ARG|\n",
      "|1934|27 May 1934 - 16:30 |Preliminary round|Stadio Benito Mus...|     Turin |       Austria|              3|              2|        France|Austria win after...|     16000|                   0|                   0|VAN MOORSEL Johan...|CAIRONI Camillo (...|   BAERT Louis (BEL)|    204|   1104|               AUT|               FRA|\n",
      "|1934|27 May 1934 - 16:30 |Preliminary round|   Giorgio Ascarelli|    Naples |       Hungary|              4|              2|         Egypt|                    |      9000|                   2|                   2|BARLASSINA Rinald...|DATTILO Generoso ...|  SASSI Otello (ITA)|    204|   1119|               HUN|               EGY|\n",
      "+----+--------------------+-----------------+--------------------+-----------+--------------+---------------+---------------+--------------+--------------------+----------+--------------------+--------------------+--------------------+--------------------+--------------------+-------+-------+------------------+------------------+\n",
      "only showing top 20 rows\n",
      "\n"
     ]
    }
   ],
   "source": [
    "df.show()"
   ]
  },
  {
   "cell_type": "code",
   "execution_count": 60,
   "metadata": {},
   "outputs": [
    {
     "data": {
      "text/plain": [
       "<bound method DataFrame.printSchema of DataFrame[Year: string, Datetime: string, Stage: string, Stadium: string, City: string, Home Team Name: string, Home Team Goals: string, Away Team Goals: string, Away Team Name: string, Win conditions: string, Attendance: string, Half-time Home Goals: string, Half-time Away Goals: string, Referee: string, Assistant 1: string, Assistant 2: string, RoundID: string, MatchID: string, Home Team Initials: string, Away Team Initials: string]>"
      ]
     },
     "execution_count": 60,
     "metadata": {},
     "output_type": "execute_result"
    }
   ],
   "source": [
    "df.printSchema"
   ]
  },
  {
   "cell_type": "code",
   "execution_count": 61,
   "metadata": {},
   "outputs": [],
   "source": [
    "df  = df.withColumnRenamed('Home Team Name', 'Home_Team')\n",
    "df  = df.withColumnRenamed('Away Team Name', 'Away_Team')\n",
    "df  = df.withColumnRenamed('Away Team Goals', 'Away_Team_Goals')\n",
    "df  = df.withColumnRenamed('Home Team Goals', 'Home_Team_Goals')\n",
    "df  = df.withColumn('Away_Team_Goals', df['Away_Team_Goals'].cast(DoubleType()))\n",
    "df  = df.withColumn('Home_Team_Goals', df['Home_Team_Goals'].cast(DoubleType()))\n",
    "df  = df.withColumn('Attendance', df['Attendance'].cast(IntegerType()))"
   ]
  },
  {
   "cell_type": "code",
   "execution_count": 62,
   "metadata": {},
   "outputs": [
    {
     "data": {
      "text/plain": [
       "<bound method DataFrame.printSchema of DataFrame[Year: string, Datetime: string, Stage: string, Stadium: string, City: string, Home_Team: string, Home_Team_Goals: double, Away_Team_Goals: double, Away_Team: string, Win conditions: string, Attendance: int, Half-time Home Goals: string, Half-time Away Goals: string, Referee: string, Assistant 1: string, Assistant 2: string, RoundID: string, MatchID: string, Home Team Initials: string, Away Team Initials: string]>"
      ]
     },
     "execution_count": 62,
     "metadata": {},
     "output_type": "execute_result"
    }
   ],
   "source": [
    "df.printSchema"
   ]
  },
  {
   "cell_type": "code",
   "execution_count": 63,
   "metadata": {},
   "outputs": [
    {
     "name": "stdout",
     "output_type": "stream",
     "text": [
      "+----+--------------------+-----------------+--------------------+-----------+----------+---------------+---------------+----------+--------------------+----------+--------------------+--------------------+--------------------+--------------------+--------------------+-------+-------+------------------+------------------+\n",
      "|Year|            Datetime|            Stage|             Stadium|       City| Home_Team|Home_Team_Goals|Away_Team_Goals| Away_Team|      Win conditions|Attendance|Half-time Home Goals|Half-time Away Goals|             Referee|         Assistant 1|         Assistant 2|RoundID|MatchID|Home Team Initials|Away Team Initials|\n",
      "+----+--------------------+-----------------+--------------------+-----------+----------+---------------+---------------+----------+--------------------+----------+--------------------+--------------------+--------------------+--------------------+--------------------+-------+-------+------------------+------------------+\n",
      "|1930|13 Jul 1930 - 15:00 |          Group 1|             Pocitos|Montevideo |    France|            4.0|            1.0|    Mexico|                    |      4444|                   3|                   0|LOMBARDI Domingo ...|CRISTOPHE Henry (...| REGO Gilberto (BRA)|    201|   1096|               FRA|               MEX|\n",
      "|1930|13 Jul 1930 - 15:00 |          Group 4|      Parque Central|Montevideo |       USA|            3.0|            0.0|   Belgium|                    |     18346|                   2|                   0|   MACIAS Jose (ARG)|MATEUCCI Francisc...|WARNKEN Alberto (...|    201|   1090|               USA|               BEL|\n",
      "|1930|14 Jul 1930 - 12:45 |          Group 2|      Parque Central|Montevideo |Yugoslavia|            2.0|            1.0|    Brazil|                    |     24059|                   2|                   0| TEJADA Anibal (URU)|VALLARINO Ricardo...| BALWAY Thomas (FRA)|    201|   1093|               YUG|               BRA|\n",
      "|1930|14 Jul 1930 - 14:50 |          Group 3|             Pocitos|Montevideo |   Romania|            3.0|            1.0|      Peru|                    |      2549|                   1|                   0|WARNKEN Alberto (...| LANGENUS Jean (BEL)|MATEUCCI Francisc...|    201|   1098|               ROU|               PER|\n",
      "|1930|15 Jul 1930 - 16:00 |          Group 1|      Parque Central|Montevideo | Argentina|            1.0|            0.0|    France|                    |     23409|                   0|                   0| REGO Gilberto (BRA)|SAUCEDO Ulises (BOL)|RADULESCU Constan...|    201|   1085|               ARG|               FRA|\n",
      "|1930|16 Jul 1930 - 14:45 |          Group 1|      Parque Central|Montevideo |     Chile|            3.0|            0.0|    Mexico|                    |      9249|                   1|                   0|CRISTOPHE Henry (...|APHESTEGUY Martin...| LANGENUS Jean (BEL)|    201|   1095|               CHI|               MEX|\n",
      "|1930|17 Jul 1930 - 12:45 |          Group 2|      Parque Central|Montevideo |Yugoslavia|            4.0|            0.0|   Bolivia|                    |     18306|                   0|                   0|MATEUCCI Francisc...|LOMBARDI Domingo ...|WARNKEN Alberto (...|    201|   1092|               YUG|               BOL|\n",
      "|1930|17 Jul 1930 - 14:45 |          Group 4|      Parque Central|Montevideo |       USA|            3.0|            0.0|  Paraguay|                    |     18306|                   2|                   0|   MACIAS Jose (ARG)|APHESTEGUY Martin...| TEJADA Anibal (URU)|    201|   1097|               USA|               PAR|\n",
      "|1930|18 Jul 1930 - 14:30 |          Group 3|  Estadio Centenario|Montevideo |   Uruguay|            1.0|            0.0|      Peru|                    |     57735|                   0|                   0| LANGENUS Jean (BEL)| BALWAY Thomas (FRA)|CRISTOPHE Henry (...|    201|   1099|               URU|               PER|\n",
      "|1930|19 Jul 1930 - 12:50 |          Group 1|  Estadio Centenario|Montevideo |     Chile|            1.0|            0.0|    France|                    |      2000|                   0|                   0| TEJADA Anibal (URU)|LOMBARDI Domingo ...| REGO Gilberto (BRA)|    201|   1094|               CHI|               FRA|\n",
      "|1930|19 Jul 1930 - 15:00 |          Group 1|  Estadio Centenario|Montevideo | Argentina|            6.0|            3.0|    Mexico|                    |     42100|                   3|                   1|SAUCEDO Ulises (BOL)|ALONSO Gualberto ...|RADULESCU Constan...|    201|   1086|               ARG|               MEX|\n",
      "|1930|20 Jul 1930 - 13:00 |          Group 2|  Estadio Centenario|Montevideo |    Brazil|            4.0|            0.0|   Bolivia|                    |     25466|                   1|                   0| BALWAY Thomas (FRA)|MATEUCCI Francisc...|VALLEJO Gaspar (MEX)|    201|   1091|               BRA|               BOL|\n",
      "|1930|20 Jul 1930 - 15:00 |          Group 4|  Estadio Centenario|Montevideo |  Paraguay|            1.0|            0.0|   Belgium|                    |     12000|                   1|                   0|VALLARINO Ricardo...|   MACIAS Jose (ARG)|LOMBARDI Domingo ...|    201|   1089|               PAR|               BEL|\n",
      "|1930|21 Jul 1930 - 14:50 |          Group 3|  Estadio Centenario|Montevideo |   Uruguay|            4.0|            0.0|   Romania|                    |     70022|                   4|                   0| REGO Gilberto (BRA)|WARNKEN Alberto (...|SAUCEDO Ulises (BOL)|    201|   1100|               URU|               ROU|\n",
      "|1930|22 Jul 1930 - 14:45 |          Group 1|  Estadio Centenario|Montevideo | Argentina|            3.0|            1.0|     Chile|                    |     41459|                   2|                   1| LANGENUS Jean (BEL)|CRISTOPHE Henry (...|SAUCEDO Ulises (BOL)|    201|   1084|               ARG|               CHI|\n",
      "|1930|26 Jul 1930 - 14:45 |      Semi-finals|  Estadio Centenario|Montevideo | Argentina|            6.0|            1.0|       USA|                    |     72886|                   1|                   0| LANGENUS Jean (BEL)|VALLEJO Gaspar (MEX)|WARNKEN Alberto (...|    202|   1088|               ARG|               USA|\n",
      "|1930|27 Jul 1930 - 14:45 |      Semi-finals|  Estadio Centenario|Montevideo |   Uruguay|            6.0|            1.0|Yugoslavia|                    |     79867|                   3|                   1| REGO Gilberto (BRA)|SAUCEDO Ulises (BOL)| BALWAY Thomas (FRA)|    202|   1101|               URU|               YUG|\n",
      "|1930|30 Jul 1930 - 14:15 |            Final|  Estadio Centenario|Montevideo |   Uruguay|            4.0|            2.0| Argentina|                    |     68346|                   1|                   2| LANGENUS Jean (BEL)|SAUCEDO Ulises (BOL)|CRISTOPHE Henry (...|    405|   1087|               URU|               ARG|\n",
      "|1934|27 May 1934 - 16:30 |Preliminary round|Stadio Benito Mus...|     Turin |   Austria|            3.0|            2.0|    France|Austria win after...|     16000|                   0|                   0|VAN MOORSEL Johan...|CAIRONI Camillo (...|   BAERT Louis (BEL)|    204|   1104|               AUT|               FRA|\n",
      "|1934|27 May 1934 - 16:30 |Preliminary round|   Giorgio Ascarelli|    Naples |   Hungary|            4.0|            2.0|     Egypt|                    |      9000|                   2|                   2|BARLASSINA Rinald...|DATTILO Generoso ...|  SASSI Otello (ITA)|    204|   1119|               HUN|               EGY|\n",
      "+----+--------------------+-----------------+--------------------+-----------+----------+---------------+---------------+----------+--------------------+----------+--------------------+--------------------+--------------------+--------------------+--------------------+-------+-------+------------------+------------------+\n",
      "only showing top 20 rows\n",
      "\n"
     ]
    }
   ],
   "source": [
    "df.show()"
   ]
  },
  {
   "cell_type": "code",
   "execution_count": 73,
   "metadata": {},
   "outputs": [
    {
     "name": "stdout",
     "output_type": "stream",
     "text": [
      "+----+-----+\n",
      "|Year|count|\n",
      "+----+-----+\n",
      "|1930|   18|\n",
      "|1934|   17|\n",
      "|1938|   18|\n",
      "|1950|   22|\n",
      "|1954|   26|\n",
      "|1958|   35|\n",
      "|1962|   32|\n",
      "|1966|   32|\n",
      "|1970|   32|\n",
      "|1974|   38|\n",
      "|1978|   38|\n",
      "|1982|   52|\n",
      "|1986|   52|\n",
      "|1990|   52|\n",
      "|1994|   52|\n",
      "|1998|   64|\n",
      "|2002|   64|\n",
      "|2006|   64|\n",
      "|2010|   64|\n",
      "|2014|   80|\n",
      "+----+-----+\n",
      "\n"
     ]
    }
   ],
   "source": [
    "# Query 1 :  Find the number of games played in each Year\n",
    "df.filter(df.Year!=\" \")\\\n",
    ".select(df.Year)\\\n",
    ".groupBy(df.Year)\\\n",
    ".count()\\\n",
    ".orderBy(df.Year).show()"
   ]
  },
  {
   "cell_type": "code",
   "execution_count": 74,
   "metadata": {},
   "outputs": [
    {
     "name": "stdout",
     "output_type": "stream",
     "text": [
      "+--------------------+\n",
      "|             Stadium|\n",
      "+--------------------+\n",
      "|          Cuauhtemoc|\n",
      "|      Parque Central|\n",
      "|       Idrottsparken|\n",
      "|         Waldstadion|\n",
      "|              Friuli|\n",
      "|       Jose Zorrilla|\n",
      "|Old Trafford Stadium|\n",
      "|           San Mames|\n",
      "|      Miyagi Stadium|\n",
      "|FIFA World Cup St...|\n",
      "|Royal Bafokeng Sp...|\n",
      "|       Nuevo Estadio|\n",
      "|      Arena Amazonia|\n",
      "|Nou Camp - Estadi...|\n",
      "|   Santiago Bernabeu|\n",
      "| Osaka Nagai Stadium|\n",
      "|Estadio Jos� Mar�...|\n",
      "|Ramon Sanchez Piz...|\n",
      "|     Renato Dall Ara|\n",
      "|  Pontiac Silverdome|\n",
      "+--------------------+\n",
      "only showing top 20 rows\n",
      "\n"
     ]
    }
   ],
   "source": [
    "# Query 2: Finding the distinct statium in the world cup dataset\n",
    "df.select(df.Stadium).distinct().show()"
   ]
  },
  {
   "cell_type": "code",
   "execution_count": 75,
   "metadata": {},
   "outputs": [
    {
     "name": "stdout",
     "output_type": "stream",
     "text": [
      "+--------------------+---------------+\n",
      "|             Stadium|sum(Attendance)|\n",
      "+--------------------+---------------+\n",
      "|      Estadio Azteca|        1917550|\n",
      "|      Olympiastadion|         815300|\n",
      "|Maracan� - Est�di...|         813541|\n",
      "|     Wembley Stadium|         778034|\n",
      "| Estadio do Maracana|         741971|\n",
      "|           Rose Bowl|         740807|\n",
      "|             Jalisco|         722456|\n",
      "|     Stade de France|         704000|\n",
      "|    Estadio Nacional|         682685|\n",
      "| Soccer City Stadium|         670859|\n",
      "|            Nacional|         663771|\n",
      "|El Monumental - E...|         625389|\n",
      "|      Giants Stadium|         515828|\n",
      "|   Cape Town Stadium|         507340|\n",
      "|  Arena de Sao Paulo|         502115|\n",
      "|    Stanford Stadium|         490424|\n",
      "|    Estadio Castelao|         476055|\n",
      "|  Estadio Centenario|         471881|\n",
      "|    Estadio Mineirao|         461205|\n",
      "|     Stadio Olimpico|         440238|\n",
      "+--------------------+---------------+\n",
      "only showing top 20 rows\n",
      "\n"
     ]
    }
   ],
   "source": [
    "# Query 3: Find the top 10 maximum people attended stadiums\n",
    "df.select(df.Stadium,df.Attendance)\\\n",
    ".groupBy(df.Stadium)\\\n",
    ".sum()\\\n",
    ".orderBy('sum(Attendance)',ascending=False).show()"
   ]
  },
  {
   "cell_type": "code",
   "execution_count": 82,
   "metadata": {},
   "outputs": [
    {
     "name": "stdout",
     "output_type": "stream",
     "text": [
      "+-------------------------------------+-----+\n",
      "|Win_conditions                       |count|\n",
      "+-------------------------------------+-----+\n",
      "|Italy win after extra time           |5    |\n",
      "|Argentina win after extra time       |4    |\n",
      "|Germany win after extra time         |4    |\n",
      "|Belgium win after extra time         |3    |\n",
      "|Brazil win on penalties (3 - 2)      |3    |\n",
      "|England win after extra time         |3    |\n",
      "|Win on Golden Goal                   |3    |\n",
      "|Argentina win on penalties (2 - 4)   |2    |\n",
      "|France win after extra time          |2    |\n",
      "|Netherlands win on penalties (4 - 3) |2    |\n",
      "|France win on penalties (3 - 4)      |2    |\n",
      "|Costa Rica win on penalties (5 - 3)  |2    |\n",
      "|Ukraine win on penalties (0 - 3)     |1    |\n",
      "|Ghana win after extra time           |1    |\n",
      "|Austria win after extra time         |1    |\n",
      "|Sweden win on penalties (4 - 5)      |1    |\n",
      "|Uruguay win after extra time         |1    |\n",
      "|Argentina win on penalties (4 - 3)   |1    |\n",
      "|Italy win on penalties (5 - 3)       |1    |\n",
      "|Belgium win on penalties (4 - 5)     |1    |\n",
      "+-------------------------------------+-----+\n",
      "only showing top 20 rows\n",
      "\n"
     ]
    }
   ],
   "source": [
    "# Query 4: Finding the Win Conditions and their distributions\n",
    "df=df.withColumnRenamed('Win conditions','Win_conditions')\n",
    "df.filter(df.Win_conditions!=' ').select(df.Win_conditions)\\\n",
    ".groupBy(df.Win_conditions)\\\n",
    ".count()\\\n",
    ".orderBy('count',ascending=False)\\\n",
    ".show(truncate=False)"
   ]
  },
  {
   "cell_type": "code",
   "execution_count": 86,
   "metadata": {},
   "outputs": [
    {
     "name": "stdout",
     "output_type": "stream",
     "text": [
      "+-----------------------------+--------------------+\n",
      "|Home_Team                    |sum(Home_Team_Goals)|\n",
      "+-----------------------------+--------------------+\n",
      "|\"rn\"\">Bosnia and Herzegovina\"|3.0                 |\n",
      "|\"rn\"\">Republic of Ireland\"   |2.0                 |\n",
      "|\"rn\"\">Serbia and Montenegro\" |0.0                 |\n",
      "|\"rn\"\">Trinidad and Tobago\"   |0.0                 |\n",
      "|\"rn\"\">United Arab Emirates\"  |0.0                 |\n",
      "|Algeria                      |5.0                 |\n",
      "|Angola                       |0.0                 |\n",
      "|Argentina                    |111.0               |\n",
      "|Australia                    |7.0                 |\n",
      "|Austria                      |31.0                |\n",
      "|Belgium                      |27.0                |\n",
      "|Bolivia                      |1.0                 |\n",
      "|Brazil                       |180.0               |\n",
      "|Bulgaria                     |11.0                |\n",
      "|Cameroon                     |11.0                |\n",
      "|Canada                       |0.0                 |\n",
      "|Chile                        |25.0                |\n",
      "|China PR                     |0.0                 |\n",
      "|Colombia                     |11.0                |\n",
      "|Costa Rica                   |7.0                 |\n",
      "+-----------------------------+--------------------+\n",
      "only showing top 20 rows\n",
      "\n"
     ]
    }
   ],
   "source": [
    "# Query 5:Sum of home goals scored and grouped by home team country \n",
    "df.filter(df.Home_Team!=' ')\\\n",
    ".groupBy('Home_Team')\\\n",
    ".sum('Home_Team_Goals')\\\n",
    ".orderBy('Home_Team')\\\n",
    ".show(truncate=False)"
   ]
  },
  {
   "cell_type": "code",
   "execution_count": 93,
   "metadata": {},
   "outputs": [
    {
     "name": "stdout",
     "output_type": "stream",
     "text": [
      "+------------------------+--------------------+\n",
      "|Stage                   |sum(Home_Team_Goals)|\n",
      "+------------------------+--------------------+\n",
      "|Final                   |43.0                |\n",
      "|First round             |30.0                |\n",
      "|Group 1                 |129.0               |\n",
      "|Group 2                 |142.0               |\n",
      "|Group 3                 |116.0               |\n",
      "|Group 4                 |127.0               |\n",
      "|Group 5                 |5.0                 |\n",
      "|Group 6                 |43.0                |\n",
      "|Group A                 |77.0                |\n",
      "|Group B                 |100.0               |\n",
      "|Group C                 |77.0                |\n",
      "|Group D                 |73.0                |\n",
      "|Group E                 |65.0                |\n",
      "|Group F                 |54.0                |\n",
      "|Group G                 |42.0                |\n",
      "|Group H                 |39.0                |\n",
      "|Match for third place   |38.0                |\n",
      "|Play-off for third place|0.0                 |\n",
      "|Preliminary round       |30.0                |\n",
      "|Quarter-finals          |118.0               |\n",
      "+------------------------+--------------------+\n",
      "only showing top 20 rows\n",
      "\n"
     ]
    }
   ],
   "source": [
    "# Query 6: Sum of home goals scored in each phase stage\n",
    "df.filter(df.Stage!=\"\")\\\n",
    ".groupBy('Stage')\\\n",
    ".sum('Home_Team_Goals')\\\n",
    ".orderBy('Stage')\\\n",
    ".show(truncate=False)"
   ]
  },
  {
   "cell_type": "code",
   "execution_count": 94,
   "metadata": {},
   "outputs": [
    {
     "name": "stdout",
     "output_type": "stream",
     "text": [
      "+----+--------------------+\n",
      "|Year|max(Home_Team_Goals)|\n",
      "+----+--------------------+\n",
      "|1958|                 7.0|\n",
      "|1938|                 8.0|\n",
      "|2014|                 4.0|\n",
      "|1982|                10.0|\n",
      "|1962|                 6.0|\n",
      "|1954|                 9.0|\n",
      "|null|                null|\n",
      "|1930|                 6.0|\n",
      "|1978|                 6.0|\n",
      "|1974|                 9.0|\n",
      "|2002|                 8.0|\n",
      "|2006|                 6.0|\n",
      "|1966|                 5.0|\n",
      "|1994|                 6.0|\n",
      "|1950|                 8.0|\n",
      "|1934|                 7.0|\n",
      "|1986|                 6.0|\n",
      "|1998|                 6.0|\n",
      "|2010|                 7.0|\n",
      "|1990|                 5.0|\n",
      "+----+--------------------+\n",
      "only showing top 20 rows\n",
      "\n"
     ]
    }
   ],
   "source": [
    "# Query 7: Display the max Home goals scored year wise \n",
    "df.groupBy('Year').max('Home_Team_Goals').show()"
   ]
  },
  {
   "cell_type": "code",
   "execution_count": 95,
   "metadata": {},
   "outputs": [
    {
     "name": "stdout",
     "output_type": "stream",
     "text": [
      "+--------------------+-----------------------------+--------------------------+----------------------------+--------------------------+---------------------------+-------+------+---------+---------+-------+-------+-------+------+--------+--------+------+-----+--------+--------+----------+-------+----+--------------+--------------+-------------+-------+-----------------+-------+-----+-----------+-------+------+---------+-------+----------+-----+------+-----+--------+-------+-------+----+----+------+-----+-------+-----+---------+--------------+------+------+-------+-----------+-----------+-------+----------------+------+--------+----+------+--------+-------+------+------------+--------+-------+------+--------+--------+------------+------------+-----+------+-----------+----+-------+------+---+-------+-------+-----+----------+-----+----+\n",
      "|     Stage_Away_Team|\"rn\"\">Bosnia and Herzegovina\"|\"rn\"\">Republic of Ireland\"|\"rn\"\">Serbia and Montenegro\"|\"rn\"\">Trinidad and Tobago\"|\"rn\"\">United Arab Emirates\"|Algeria|Angola|Argentina|Australia|Austria|Belgium|Bolivia|Brazil|Bulgaria|Cameroon|Canada|Chile|China PR|Colombia|Costa Rica|Croatia|Cuba|Czech Republic|Czechoslovakia|C�te d'Ivoire|Denmark|Dutch East Indies|Ecuador|Egypt|El Salvador|England|France|German DR|Germany|Germany FR|Ghana|Greece|Haiti|Honduras|Hungary|IR Iran|Iran|Iraq|Israel|Italy|Jamaica|Japan|Korea DPR|Korea Republic|Kuwait|Mexico|Morocco|Netherlands|New Zealand|Nigeria|Northern Ireland|Norway|Paraguay|Peru|Poland|Portugal|Romania|Russia|Saudi Arabia|Scotland|Senegal|Serbia|Slovakia|Slovenia|South Africa|Soviet Union|Spain|Sweden|Switzerland|Togo|Tunisia|Turkey|USA|Ukraine|Uruguay|Wales|Yugoslavia|Zaire|null|\n",
      "+--------------------+-----------------------------+--------------------------+----------------------------+--------------------------+---------------------------+-------+------+---------+---------+-------+-------+-------+------+--------+--------+------+-----+--------+--------+----------+-------+----+--------------+--------------+-------------+-------+-----------------+-------+-----+-----------+-------+------+---------+-------+----------+-----+------+-----+--------+-------+-------+----+----+------+-----+-------+-----+---------+--------------+------+------+-------+-----------+-----------+-------+----------------+------+--------+----+------+--------+-------+------+------------+--------+-------+------+--------+--------+------------+------------+-----+------+-----------+----+-------+------+---+-------+-------+-----+----------+-----+----+\n",
      "|                null|                            0|                         0|                           0|                         0|                          0|      0|     0|        0|        0|      0|      0|      0|     0|       0|       0|     0|    0|       0|       0|         0|      0|   0|             0|             0|            0|      0|                0|      0|    0|          0|      0|     0|        0|      0|         0|    0|     0|    0|       0|      0|      0|   0|   0|     0|    0|      0|    0|        0|             0|     0|     0|      0|          0|          0|      0|               0|     0|       0|   0|     0|       0|      0|     0|           0|       0|      0|     0|       0|       0|           0|           0|    0|     0|          0|   0|      0|     0|  0|      0|      0|    0|         0|    0|3720|\n",
      "|         First round|                            0|                         0|                           0|                         0|                          0|      0|     0|        0|        0|      0|      1|      0|     0|       0|       0|     0|    0|       0|       0|         0|      0|   0|             0|             0|            0|      0|                1|      0|    0|          0|      0|     0|        0|      2|         0|    0|     0|    0|       0|      0|      0|   0|   0|     0|    0|      0|    0|        0|             0|     0|     0|      0|          1|          0|      0|               0|     1|       0|   0|     1|       0|      2|     0|           0|       0|      0|     0|       0|       0|           0|           0|    0|     0|          0|   0|      0|     0|  0|      0|      0|    0|         0|    0|   0|\n",
      "|             Group 5|                            0|                         0|                           0|                         0|                          0|      0|     0|        0|        0|      0|      0|      0|     0|       0|       0|     0|    0|       0|       0|         0|      0|   0|             0|             0|            0|      0|                0|      0|    0|          0|      0|     0|        0|      0|         0|    0|     0|    0|       1|      0|      0|   0|   0|     0|    0|      0|    0|        0|             0|     0|     0|      0|          0|          0|      0|               2|     0|       0|   0|     0|       0|      0|     0|           0|       0|      0|     0|       0|       0|           0|           0|    1|     0|          0|   0|      0|     0|  0|      0|      0|    0|         2|    0|   0|\n",
      "|Play-off for thir...|                            0|                         0|                           0|                         0|                          0|      0|     0|        0|        0|      0|      0|      0|     0|       0|       0|     0|    0|       0|       0|         0|      0|   0|             0|             0|            0|      0|                0|      0|    0|          0|      0|     0|        0|      0|         0|    0|     0|    0|       0|      0|      0|   0|   0|     0|    0|      0|    0|        0|             0|     0|     0|      0|          2|          0|      0|               0|     0|       0|   0|     0|       0|      0|     0|           0|       0|      0|     0|       0|       0|           0|           0|    0|     0|          0|   0|      0|     0|  0|      0|      0|    0|         0|    0|   0|\n",
      "|             Group B|                            0|                         0|                           0|                         2|                          0|      0|     0|        1|        1|      3|      2|      0|     1|       0|       5|     0|    3|       0|       0|         0|      0|   0|             0|             0|            0|      0|                0|      0|    0|          0|      1|     0|        0|      0|         2|    0|     1|    0|       0|      0|      0|   0|   1|     0|    0|      0|    0|        0|             2|     0|     2|      0|          2|          0|      2|               0|     0|       5|   3|     3|       0|      3|     2|           0|       0|      0|     0|       0|       2|           1|           2|    2|     4|          0|   0|      0|     0|  0|      0|      0|    0|         2|    0|   0|\n",
      "|             Group E|                            0|                         4|                           0|                         0|                          0|      0|     0|        0|        0|      0|      1|      0|     0|       0|       2|     0|    0|       0|       0|         0|      0|   0|             1|             0|            0|      3|                0|      2|    0|          0|      0|     2|        0|      1|         2|    2|     0|    0|       1|      0|      0|   0|   0|     0|    1|      0|    2|        0|             3|     0|     5|      0|          1|          0|      0|               0|     2|       0|   0|     0|       0|      0|     0|           2|       1|      0|     0|       0|       0|           0|           0|    3|     0|          1|   0|      0|     0|  2|      0|      4|    0|         0|    0|   0|\n",
      "|             Group F|                            2|                         1|                           0|                         0|                          0|      0|     0|        2|        2|      0|      0|      0|     1|       0|       0|     0|    0|       0|       0|         0|      2|   0|             0|             0|            0|      0|                0|      0|    3|          0|      3|     0|        0|      0|         0|    0|     0|    0|       0|      0|      2|   3|   0|     0|    1|      0|    1|        0|             0|     0|     0|      4|          4|          2|      3|               0|     0|       2|   0|     2|       1|      0|     0|           2|       0|      0|     0|       1|       0|           0|           0|    0|     1|          0|   0|      0|     0|  1|      0|      0|    0|         2|    0|   0|\n",
      "|             Group H|                            0|                         0|                           0|                         0|                          0|      2|     0|        0|        0|      0|      3|      0|     0|       0|       0|     0|    1|       0|       0|         0|      3|   0|             0|             0|            0|      0|                0|      0|    0|          0|      0|     0|        0|      0|         0|    0|     0|    0|       2|      0|      0|   0|   0|     0|    0|      2|    2|        0|             1|     0|     0|      0|          0|          0|      0|               0|     0|       0|   0|     0|       0|      0|     4|           1|       0|      0|     0|       0|       0|           0|           0|    2|     0|          2|   0|      3|     0|  0|      2|      0|    0|         0|    0|   0|\n",
      "|             Group 4|                            0|                         0|                           0|                         0|                          0|      0|     0|        3|        0|      3|      4|      1|     0|       5|       0|     0|    3|       0|       0|         0|      0|   0|             0|             2|            0|      0|                0|      0|    0|          0|      4|     2|        0|      0|         0|    0|     0|    2|       0|      0|      2|   1|   0|     0|    6|      0|    0|        1|             0|     3|     0|      3|          1|          0|      0|               2|     0|       1|   2|     1|       0|      0|     0|           0|       1|      0|     0|       0|       0|           0|           1|    0|     0|          1|   0|      0|     0|  0|      0|      0|    0|         0|    0|   0|\n",
      "|             Group G|                            0|                         0|                           0|                         0|                          0|      0|     0|        0|        0|      0|      0|      0|     1|       0|       0|     0|    0|       0|       1|         0|      2|   0|             0|             0|            2|      0|                0|      2|    0|          0|      2|     1|        0|      1|         0|    2|     0|    0|       0|      0|      0|   0|   0|     0|    1|      0|    0|        2|             2|     0|     1|      0|          0|          0|      0|               0|     0|       0|   0|     0|       3|      0|     0|           0|       0|      0|     0|       0|       0|           0|           0|    0|     0|          2|   1|      3|     0|  1|      0|      0|    0|         0|    0|   0|\n",
      "|             Group D|                            0|                         0|                           0|                         0|                          2|      1|     2|        0|        2|      0|      0|      0|     2|       5|       0|     0|    0|       0|       3|         2|      0|   0|             0|             0|            0|      0|                0|      0|    0|          0|      2|     0|        0|      1|         0|    1|     2|    0|       0|      0|      1|   1|   0|     0|    1|      0|    0|        0|             1|     0|     1|      0|          0|          0|      3|               1|     0|       2|   0|     2|       2|      0|     0|           0|       0|      0|     2|       0|       0|           0|           0|    2|     0|          0|   0|      0|     0|  2|      0|      1|    0|         1|    0|   0|\n",
      "|             Group 3|                            0|                         0|                           0|                         0|                          0|      0|     0|        1|        0|      1|      1|      0|     5|       4|       0|     0|    0|       0|       0|         0|      0|   0|             0|             7|            0|      0|                0|      0|    0|          3|      1|     0|        0|      0|         0|    0|     0|    0|       0|      5|      0|   0|   0|     0|    1|      0|    0|        0|             0|     0|     4|      0|          2|          0|      0|               0|     0|       2|   2|     0|       0|      3|     0|           0|       2|      0|     0|       0|       0|           0|           0|    4|     3|          0|   0|      0|     0|  0|      0|      2|    3|         0|    0|   0|\n",
      "|             Group A|                            0|                         0|                           0|                         0|                          0|      0|     0|        2|        0|      3|      0|      0|     3|       2|       1|     0|    0|       0|       2|         2|      2|   0|             0|             3|            0|      1|                0|      1|    0|          0|      0|     2|        2|      1|         1|    0|     0|    0|       0|      0|      0|   0|   0|     0|    4|      0|    0|        0|             1|     0|     4|      2|          2|          0|      0|               0|     3|       0|   0|     2|       0|      2|     0|           0|       1|      2|     0|       0|       0|           1|           0|    0|     0|          2|   0|      0|     0|  2|      0|      4|    0|         0|    0|   0|\n",
      "|         Third place|                            0|                         0|                           0|                         0|                          0|      0|     0|        0|        0|      0|      0|      0|     0|       0|       0|     0|    0|       0|       0|         0|      0|   0|             0|             0|            0|      0|                0|      0|    0|          0|      0|     0|        0|      0|         0|    0|     0|    0|       0|      0|      0|   0|   0|     0|    0|      0|    0|        0|             0|     0|     0|      0|          0|          0|      0|               0|     0|       0|   0|     0|       1|      0|     0|           0|       0|      0|     0|       0|       0|           0|           0|    0|     0|          0|   0|      0|     1|  0|      0|      0|    0|         0|    0|   0|\n",
      "|   Preliminary round|                            0|                         0|                           0|                         0|                          0|      0|     0|        1|        0|      0|      1|      0|     1|       0|       0|     0|    0|       0|       0|         0|      0|   0|             0|             0|            0|      0|                0|      0|    1|          0|      0|     1|        0|      0|         0|    0|     0|    0|       0|      0|      0|   0|   0|     0|    0|      0|    0|        0|             0|     0|     0|      0|          1|          0|      0|               0|     0|       0|   0|     0|       0|      1|     0|           0|       0|      0|     0|       0|       0|           0|           0|    0|     0|          0|   0|      0|     0|  1|      0|      0|    0|         0|    0|   0|\n",
      "|      Quarter-finals|                            0|                         1|                           0|                         0|                          0|      0|     0|        4|        0|      0|      3|      0|     4|       0|       1|     0|    0|       0|       2|         2|      1|   1|             0|             3|            0|      1|                0|      0|    0|          0|      4|     4|        0|      4|         1|    1|     0|    0|       0|      3|      0|   0|   0|     0|    0|      0|    0|        1|             1|     0|     2|      0|          0|          0|      0|               1|     0|       0|   1|     0|       1|      0|     0|           0|       0|      0|     0|       0|       0|           0|           3|    4|     2|          3|   0|      0|     1|  1|      1|      1|    1|         2|    0|   0|\n",
      "|             Group C|                            0|                         0|                           2|                         0|                          0|      2|     0|        1|        0|      0|      0|      2|     1|       0|       0|     2|    0|       2|       1|         3|      0|   0|             0|             0|            4|      3|                0|      0|    0|          0|      1|     2|        0|      0|         0|    0|     2|    0|       0|      1|      0|   0|   0|     0|    0|      0|    1|        0|             2|     0|     0|      0|          1|          0|      0|               0|     0|       0|   0|     0|       0|      0|     0|           2|       3|      0|     0|       0|       1|           1|           1|    2|     1|          0|   0|      0|     2|  2|      0|      0|    0|         0|    0|   0|\n",
      "|               Final|                            0|                         0|                           0|                         0|                          0|      0|     0|        4|        0|      0|      0|      0|     1|       0|       0|     0|    0|       0|       0|         0|      0|   0|             0|             2|            0|      0|                0|      0|    0|          0|      0|     2|        0|      0|         4|    0|     0|    0|       0|      2|      0|   0|   0|     0|    2|      0|    0|        0|             0|     0|     0|      0|          1|          0|      0|               0|     0|       0|   0|     0|       0|      0|     0|           0|       0|      0|     0|       0|       0|           0|           0|    1|     1|          0|   0|      0|     0|  0|      0|      0|    0|         0|    0|   0|\n",
      "|             Group 2|                            0|                         0|                           0|                         0|                          0|      1|     0|        1|        0|      3|      0|      2|     3|       0|       0|     0|    5|       0|       0|         0|      0|   0|             0|             0|            0|      0|                0|      0|    0|          0|      4|     1|        0|      0|         1|    0|     0|    0|       0|      0|      0|   0|   0|     3|    3|      0|    0|        0|             2|     0|     3|      0|          0|          0|      0|               0|     0|       1|   0|     1|       0|      0|     0|           0|       4|      0|     0|       0|       0|           0|           0|    3|     1|          6|   0|      2|     2|  2|      0|      1|    0|         3|    1|   0|\n",
      "|Match for third p...|                            0|                         0|                           0|                         0|                          0|      0|     0|        0|        0|      1|      1|      0|     0|       1|       0|     0|    0|       0|       0|         0|      1|   0|             0|             0|            0|      0|                0|      0|    0|          0|      1|     1|        0|      1|         1|    0|     0|    0|       0|      0|      0|   0|   0|     0|    1|      0|    0|        0|             0|     0|     0|      0|          0|          0|      0|               0|     0|       0|   0|     1|       0|      0|     0|           0|       0|      0|     0|       0|       0|           0|           1|    0|     1|          0|   0|      0|     0|  0|      0|      2|    0|         1|    0|   0|\n",
      "+--------------------+-----------------------------+--------------------------+----------------------------+--------------------------+---------------------------+-------+------+---------+---------+-------+-------+-------+------+--------+--------+------+-----+--------+--------+----------+-------+----+--------------+--------------+-------------+-------+-----------------+-------+-----+-----------+-------+------+---------+-------+----------+-----+------+-----+--------+-------+-------+----+----+------+-----+-------+-----+---------+--------------+------+------+-------+-----------+-----------+-------+----------------+------+--------+----+------+--------+-------+------+------------+--------+-------+------+--------+--------+------------+------------+-----+------+-----------+----+-------+------+---+-------+-------+-----+----------+-----+----+\n",
      "only showing top 20 rows\n",
      "\n"
     ]
    }
   ],
   "source": [
    "# Query 8: pairing stage wise matches with Away_Team\n",
    "df.crosstab('Stage', 'Away_Team').show()"
   ]
  },
  {
   "cell_type": "code",
   "execution_count": 96,
   "metadata": {},
   "outputs": [
    {
     "name": "stdout",
     "output_type": "stream",
     "text": [
      "64\n"
     ]
    }
   ],
   "source": [
    "# Query 9: Count the total no. of matches played in 2010 \n",
    "print(df.filter(df.Year.like(\"2010\")).count())"
   ]
  },
  {
   "cell_type": "code",
   "execution_count": 99,
   "metadata": {},
   "outputs": [
    {
     "name": "stdout",
     "output_type": "stream",
     "text": [
      "+-------+------------------+------------------+------------------+\n",
      "|summary|              Year|   Home_Team_Goals|   Away_Team_Goals|\n",
      "+-------+------------------+------------------+------------------+\n",
      "|  count|               852|               852|               852|\n",
      "|   mean|1985.0892018779343|1.8110328638497653| 1.022300469483568|\n",
      "| stddev|22.448824702021138|1.6102551385229658|1.0875733783096067|\n",
      "|    min|              1930|               0.0|               0.0|\n",
      "|    max|              2014|              10.0|               7.0|\n",
      "+-------+------------------+------------------+------------------+\n",
      "\n"
     ]
    }
   ],
   "source": [
    "# Query 10: Describing mean, max, min of the Home_Team_Goals\n",
    "df.describe(['Year','Home_Team_Goals','Away_Team_Goals']).show()"
   ]
  },
  {
   "cell_type": "code",
   "execution_count": null,
   "metadata": {},
   "outputs": [],
   "source": [
    "!pwd"
   ]
  },
  {
   "cell_type": "code",
   "execution_count": null,
   "metadata": {},
   "outputs": [],
   "source": []
  }
 ],
 "metadata": {
  "kernelspec": {
   "display_name": "Python 3",
   "language": "python",
   "name": "python3"
  },
  "language_info": {
   "codemirror_mode": {
    "name": "ipython",
    "version": 3
   },
   "file_extension": ".py",
   "mimetype": "text/x-python",
   "name": "python",
   "nbconvert_exporter": "python",
   "pygments_lexer": "ipython3",
   "version": "3.6.8"
  }
 },
 "nbformat": 4,
 "nbformat_minor": 2
}
