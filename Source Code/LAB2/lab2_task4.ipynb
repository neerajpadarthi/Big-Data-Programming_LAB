{
 "cells": [
  {
   "cell_type": "code",
   "execution_count": 1,
   "metadata": {},
   "outputs": [],
   "source": [
    "from graphframes import *\n",
    "from pyspark import *\n",
    "from pyspark.sql import *"
   ]
  },
  {
   "cell_type": "code",
   "execution_count": 2,
   "metadata": {},
   "outputs": [
    {
     "ename": "ValueError",
     "evalue": "Cannot run multiple SparkContexts at once; existing SparkContext(app=PySparkShell, master=local[*]) created by <module> at C:\\Users\\Hiresh\\Anaconda3\\lib\\site-packages\\IPython\\utils\\py3compat.py:188 ",
     "output_type": "error",
     "traceback": [
      "\u001b[1;31m---------------------------------------------------------------------------\u001b[0m",
      "\u001b[1;31mValueError\u001b[0m                                Traceback (most recent call last)",
      "\u001b[1;32m<ipython-input-2-20b4de1b1db8>\u001b[0m in \u001b[0;36m<module>\u001b[1;34m\u001b[0m\n\u001b[0;32m      3\u001b[0m \u001b[1;31m#findspark.init()\u001b[0m\u001b[1;33m\u001b[0m\u001b[1;33m\u001b[0m\u001b[1;33m\u001b[0m\u001b[0m\n\u001b[0;32m      4\u001b[0m \u001b[1;33m\u001b[0m\u001b[0m\n\u001b[1;32m----> 5\u001b[1;33m \u001b[0msc\u001b[0m \u001b[1;33m=\u001b[0m \u001b[0mSparkContext\u001b[0m\u001b[1;33m(\u001b[0m\u001b[1;33m)\u001b[0m\u001b[1;33m\u001b[0m\u001b[1;33m\u001b[0m\u001b[0m\n\u001b[0m\u001b[0;32m      6\u001b[0m \u001b[0msqlContext\u001b[0m \u001b[1;33m=\u001b[0m \u001b[0mSQLContext\u001b[0m\u001b[1;33m(\u001b[0m\u001b[0msc\u001b[0m\u001b[1;33m)\u001b[0m\u001b[1;33m\u001b[0m\u001b[1;33m\u001b[0m\u001b[0m\n",
      "\u001b[1;32m~\\Desktop\\spark\\spark-2.4.4-bin-hadoop2.7\\python\\pyspark\\context.py\u001b[0m in \u001b[0;36m__init__\u001b[1;34m(self, master, appName, sparkHome, pyFiles, environment, batchSize, serializer, conf, gateway, jsc, profiler_cls)\u001b[0m\n\u001b[0;32m    131\u001b[0m                     \" note this option will be removed in Spark 3.0\")\n\u001b[0;32m    132\u001b[0m \u001b[1;33m\u001b[0m\u001b[0m\n\u001b[1;32m--> 133\u001b[1;33m         \u001b[0mSparkContext\u001b[0m\u001b[1;33m.\u001b[0m\u001b[0m_ensure_initialized\u001b[0m\u001b[1;33m(\u001b[0m\u001b[0mself\u001b[0m\u001b[1;33m,\u001b[0m \u001b[0mgateway\u001b[0m\u001b[1;33m=\u001b[0m\u001b[0mgateway\u001b[0m\u001b[1;33m,\u001b[0m \u001b[0mconf\u001b[0m\u001b[1;33m=\u001b[0m\u001b[0mconf\u001b[0m\u001b[1;33m)\u001b[0m\u001b[1;33m\u001b[0m\u001b[1;33m\u001b[0m\u001b[0m\n\u001b[0m\u001b[0;32m    134\u001b[0m         \u001b[1;32mtry\u001b[0m\u001b[1;33m:\u001b[0m\u001b[1;33m\u001b[0m\u001b[1;33m\u001b[0m\u001b[0m\n\u001b[0;32m    135\u001b[0m             self._do_init(master, appName, sparkHome, pyFiles, environment, batchSize, serializer,\n",
      "\u001b[1;32m~\\Desktop\\spark\\spark-2.4.4-bin-hadoop2.7\\python\\pyspark\\context.py\u001b[0m in \u001b[0;36m_ensure_initialized\u001b[1;34m(cls, instance, gateway, conf)\u001b[0m\n\u001b[0;32m    330\u001b[0m                         \u001b[1;34m\" created by %s at %s:%s \"\u001b[0m\u001b[1;33m\u001b[0m\u001b[1;33m\u001b[0m\u001b[0m\n\u001b[0;32m    331\u001b[0m                         % (currentAppName, currentMaster,\n\u001b[1;32m--> 332\u001b[1;33m                             callsite.function, callsite.file, callsite.linenum))\n\u001b[0m\u001b[0;32m    333\u001b[0m                 \u001b[1;32melse\u001b[0m\u001b[1;33m:\u001b[0m\u001b[1;33m\u001b[0m\u001b[1;33m\u001b[0m\u001b[0m\n\u001b[0;32m    334\u001b[0m                     \u001b[0mSparkContext\u001b[0m\u001b[1;33m.\u001b[0m\u001b[0m_active_spark_context\u001b[0m \u001b[1;33m=\u001b[0m \u001b[0minstance\u001b[0m\u001b[1;33m\u001b[0m\u001b[1;33m\u001b[0m\u001b[0m\n",
      "\u001b[1;31mValueError\u001b[0m: Cannot run multiple SparkContexts at once; existing SparkContext(app=PySparkShell, master=local[*]) created by <module> at C:\\Users\\Hiresh\\Anaconda3\\lib\\site-packages\\IPython\\utils\\py3compat.py:188 "
     ]
    }
   ],
   "source": [
    "import findspark\n",
    "\n",
    "#findspark.init()\n",
    "\n",
    "sc = SparkContext()\n",
    "sqlContext = SQLContext(sc)"
   ]
  },
  {
   "cell_type": "code",
   "execution_count": 3,
   "metadata": {},
   "outputs": [],
   "source": [
    "df_wordgame = sqlContext.read.format(\"csv\").option(\"header\", \"true\")\\\n",
    ".csv('C:/Users/Hiresh/Desktop/UMKC/Big Data Prog/lab2_task4/wordgame_20170721.csv')"
   ]
  },
  {
   "cell_type": "code",
   "execution_count": 4,
   "metadata": {},
   "outputs": [],
   "source": [
    "df_wordgame.registerTempTable(\"wordgame\")"
   ]
  },
  {
   "cell_type": "code",
   "execution_count": 5,
   "metadata": {},
   "outputs": [
    {
     "name": "stdout",
     "output_type": "stream",
     "text": [
      "+------+------------+------------+------+--------+\n",
      "|author|       word1|       word2|source|sourceID|\n",
      "+------+------------+------------+------+--------+\n",
      "|  1353|       email|        spam|   GOG|       4|\n",
      "|  1568|  highlander|  zweihander|   GOG|       4|\n",
      "|  4793|    dictator|    decision|    U2|       8|\n",
      "|   796|       horse|      cowboy|   ECF|       3|\n",
      "|   289|      maudie|     atticus|    AC|       0|\n",
      "|  2353|   substance|      liquid|   LEF|       5|\n",
      "|  2696|     numbers|    quantity|   SAS|       6|\n",
      "|  1113|     endgame|      battle|   GOG|       4|\n",
      "|  1079| machinarium|   mechanism|   GOG|       4|\n",
      "|  4726|        star|       light|    U2|       8|\n",
      "|   312|      limpet|        mine|    AC|       0|\n",
      "|  1041|        pick|         hoe|   ECF|       3|\n",
      "|  4587|        name|      maiden|    TF|       7|\n",
      "|   390|substantiate|authenticate|    BC|       1|\n",
      "|  5342|      ibutts|        ipoo|    WP|       9|\n",
      "|   883|     privacy|    solitude|   ECF|       3|\n",
      "|  5726|        walk|        mall|    WP|       9|\n",
      "|  6232|     spinach|       yummy|    WP|       9|\n",
      "|   235|     magneto|     fiction|    AC|       0|\n",
      "|  4676|   depressed|          me|    U2|       8|\n",
      "+------+------------+------------+------+--------+\n",
      "only showing top 20 rows\n",
      "\n"
     ]
    }
   ],
   "source": [
    "df_wordgame.show()"
   ]
  },
  {
   "cell_type": "code",
   "execution_count": 6,
   "metadata": {},
   "outputs": [],
   "source": [
    "after_duplicate=sqlContext.sql('select author,word1 as id,word2,source,sourceID from wordgame \\\n",
    "group by  author,word1,word2,source,sourceID limit 1000')\n",
    "after_duplicate.registerTempTable(\"newwordgame\")"
   ]
  },
  {
   "cell_type": "code",
   "execution_count": 9,
   "metadata": {},
   "outputs": [],
   "source": [
    "vertices=sqlContext.sql('select author,id,word2,source,sourceID from newwordgame \\\n",
    "group by  author,id,word2,source,sourceID')"
   ]
  },
  {
   "cell_type": "code",
   "execution_count": 10,
   "metadata": {},
   "outputs": [],
   "source": [
    "edges=sqlContext.sql('select id as src,word2 as dst, source as source from newwordgame group by id,word2,source')"
   ]
  },
  {
   "cell_type": "code",
   "execution_count": 11,
   "metadata": {},
   "outputs": [],
   "source": [
    "from graphframes import *\n",
    "graph=GraphFrame(vertices,edges)"
   ]
  },
  {
   "cell_type": "code",
   "execution_count": 12,
   "metadata": {},
   "outputs": [],
   "source": [
    "pageRank=graph.pageRank(resetProbability=0.15,maxIter=1)"
   ]
  },
  {
   "cell_type": "code",
   "execution_count": 13,
   "metadata": {},
   "outputs": [
    {
     "name": "stdout",
     "output_type": "stream",
     "text": [
      "+------+-----------------+------------+------+--------+------------------+\n",
      "|author|               id|       word2|source|sourceID|          pagerank|\n",
      "+------+-----------------+------------+------+--------+------------------+\n",
      "|   312|        broadcast|transmission|    AC|       0|0.5327695560253642|\n",
      "|  4522|           boring|    politics|    TF|       7|0.5327695560253642|\n",
      "|  1317|            party|       house|   GOG|       4| 3.551797040169095|\n",
      "|  6272|            party|        gala|    WP|       9| 3.551797040169095|\n",
      "|  4240|            avoid|      devoid|   SAS|       6|0.5327695560253642|\n",
      "|  4522|         bungalow|        flat|    TF|       7|0.5327695560253642|\n",
      "|  4762|mocha choco latte|  choco taco|    U2|       8|0.5327695560253642|\n",
      "|   873|             sops|       gravy|   ECF|       3|0.5327695560253642|\n",
      "|  2525|           blammo|         pow|   SAS|       6|0.5327695560253642|\n",
      "|   387|          pickled|   cucumbers|    BC|       1|0.5327695560253642|\n",
      "|    39|        criminals|       punks|    AC|       0| 3.551797040169095|\n",
      "|   499|       englishman|        chap|    BC|       1|0.5327695560253642|\n",
      "|  4633|             gaze|       watch|    TF|       7|0.5327695560253642|\n",
      "|  2124|         disagree|    conflict|   GOG|       4|0.5327695560253642|\n",
      "|  5713|           belief|       magic|    WP|       9|0.5327695560253642|\n",
      "|  3925|            nurse|      degree|   SAS|       6|0.5327695560253642|\n",
      "|  2779|       popularity|     popular|   SAS|       6|0.5327695560253642|\n",
      "|  1089|           uproar|    brouhaha|   GOG|       4|0.5327695560253642|\n",
      "|  2525|        forensics|         lab|   SAS|       6|0.5327695560253642|\n",
      "|  1922|         vitamins|     oranges|   GOG|       4|0.5327695560253642|\n",
      "+------+-----------------+------------+------+--------+------------------+\n",
      "only showing top 20 rows\n",
      "\n"
     ]
    }
   ],
   "source": [
    "pageRank.vertices.show()"
   ]
  },
  {
   "cell_type": "code",
   "execution_count": 14,
   "metadata": {},
   "outputs": [
    {
     "name": "stdout",
     "output_type": "stream",
     "text": [
      "+----------+-------------+------+------+\n",
      "|       src|          dst|source|weight|\n",
      "+----------+-------------+------+------+\n",
      "|flatulence|          gas|    TF|   1.0|\n",
      "|        mr|           mr|    AC|   1.0|\n",
      "|      tree|       leaves|    WP|   0.5|\n",
      "|      tree|       leaves|    WP|   0.5|\n",
      "|      tree|       leaves|    WP|   0.5|\n",
      "|      tree|       leaves|    WP|   0.5|\n",
      "|membership|         card|   GOG|   0.5|\n",
      "|membership|         card|   GOG|   0.5|\n",
      "|membership|         card|   GOG|   0.5|\n",
      "|membership|         card|   GOG|   0.5|\n",
      "|      edge|      science|    WP|   1.0|\n",
      "|       tnt|     dynamite|   ECF|   1.0|\n",
      "|      poke|         fire|    TF|   1.0|\n",
      "|     shade|     coolness|    WP|   1.0|\n",
      "|  airfield|         down|    WP|   1.0|\n",
      "|    change|metamorphosis|    CC|   1.0|\n",
      "|    apples|          red|    WP|   1.0|\n",
      "|   barrier|        cream|   SAS|   1.0|\n",
      "| shootings|     horrible|    TF|   1.0|\n",
      "|       hat|        cover|   SAS|0.0625|\n",
      "+----------+-------------+------+------+\n",
      "only showing top 20 rows\n",
      "\n"
     ]
    }
   ],
   "source": [
    "pageRank.edges.show()"
   ]
  }
 ],
 "metadata": {
  "kernelspec": {
   "display_name": "Python 3",
   "language": "python",
   "name": "python3"
  },
  "language_info": {
   "codemirror_mode": {
    "name": "ipython",
    "version": 3
   },
   "file_extension": ".py",
   "mimetype": "text/x-python",
   "name": "python",
   "nbconvert_exporter": "python",
   "pygments_lexer": "ipython3",
   "version": "3.6.8"
  }
 },
 "nbformat": 4,
 "nbformat_minor": 2
}
