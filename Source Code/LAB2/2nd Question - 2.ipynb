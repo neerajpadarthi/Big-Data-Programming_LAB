{
 "cells": [
  {
   "cell_type": "code",
   "execution_count": 1,
   "metadata": {},
   "outputs": [],
   "source": [
    "from pyspark.sql import SparkSession\n",
    "from pyspark.sql import *\n",
    "from pyspark.sql.types import DoubleType,IntegerType\n",
    "import pyspark.sql.functions as F\n",
    "\n",
    "spark = SparkSession \\\n",
    "    .builder \\\n",
    "    .appName(\"Python Spark SQL basic example\") \\\n",
    "    .getOrCreate()"
   ]
  },
  {
   "cell_type": "code",
   "execution_count": 27,
   "metadata": {},
   "outputs": [
    {
     "data": {
      "text/plain": [
       "['Year,Country,Winner,Runners-Up,Third,Fourth,GoalsScored,QualifiedTeams,MatchesPlayed,Attendance',\n",
       " '1930,Uruguay,Uruguay,Argentina,USA,Yugoslavia,70,13,18,590.549']"
      ]
     },
     "execution_count": 27,
     "metadata": {},
     "output_type": "execute_result"
    }
   ],
   "source": [
    "rdd= sc.textFile('WorldCups.csv')\n",
    "rdd.take(2)"
   ]
  },
  {
   "cell_type": "code",
   "execution_count": 28,
   "metadata": {},
   "outputs": [],
   "source": [
    "header=rdd.first()\n",
    "final_rdd = rdd.filter(lambda x: x!=header)\n",
    "rdd = rdd.map(lambda line: (line.split(\",\")))"
   ]
  },
  {
   "cell_type": "code",
   "execution_count": 29,
   "metadata": {},
   "outputs": [],
   "source": [
    "from pyspark.sql.types import StructType\n",
    "from pyspark.sql.types import StructField\n",
    "from pyspark.sql.types import StringType, IntegerType\n",
    "\n",
    "schema = StructType([StructField('Year', StringType(), True),\n",
    "                         StructField('Country', StringType(), True),\n",
    "                         StructField('Winner', StringType(), True),\n",
    "                         StructField('Runners-Up', StringType(), True),\n",
    "                         StructField('Third', StringType(), True),\n",
    "                         StructField('Fourth', StringType(), True),\n",
    "                         StructField('GoalsScored', StringType(), True),\n",
    "                         StructField('QualifiedTeams', StringType(), True),\n",
    "                         StructField('MatchesPlayed', StringType(), True),\n",
    "                         StructField('Attendance', StringType(), True)])\n",
    "\n",
    "df=spark.createDataFrame(rdd,schema=schema)\n",
    "df = df.withColumn('GoalsScored', df['GoalsScored'].cast(IntegerType()))\n",
    "df = df.withColumnRenamed('Runners-Up', 'Runnersup')"
   ]
  },
  {
   "cell_type": "code",
   "execution_count": null,
   "metadata": {},
   "outputs": [],
   "source": [
    "\n",
    "\n"
   ]
  },
  {
   "cell_type": "code",
   "execution_count": 31,
   "metadata": {},
   "outputs": [
    {
     "data": {
      "text/plain": [
       "[('Uruguay', '70'),\n",
       " ('USA', '141'),\n",
       " ('Switzerland', '140'),\n",
       " ('Sweden', '126'),\n",
       " ('Spain', '146'),\n",
       " ('South Africa', '145'),\n",
       " ('Mexico', '95132'),\n",
       " ('Korea/Japan', '161'),\n",
       " ('Italy', '70115'),\n",
       " ('Germany', '97147'),\n",
       " ('France', '84171'),\n",
       " ('England', '89'),\n",
       " ('Chile', '89'),\n",
       " ('Brazil', '88171'),\n",
       " ('Argentina', '102')]"
      ]
     },
     "execution_count": 31,
     "metadata": {},
     "output_type": "execute_result"
    }
   ],
   "source": [
    "## 1 For each Stadium finding out the no of goals - RDD\n",
    "final_rdd.filter(lambda x:x.split(',')[6]!='null')\\\n",
    ".map(lambda x:(x.split(',')[1],x.split(',')[6]))\\\n",
    ".reduceByKey(lambda x,y:(x+y))\\\n",
    ".sortByKey(ascending=False).collect()\n",
    "\n",
    "## Using RDD \n",
    "\n",
    "# -> As it treats everything as lines, so we have separated the fields with comma delimeter\n",
    "# -> Created a Map function to create array of string which has the Country and No of Goals for each\n",
    "# -> Used reducebyKey to combine all the values for a key, used Sum\n",
    "# -> Sortkey by key values and did collect operation on the rdd to display the values"
   ]
  },
  {
   "cell_type": "code",
   "execution_count": 49,
   "metadata": {},
   "outputs": [
    {
     "name": "stdout",
     "output_type": "stream",
     "text": [
      "+------------+----------------+\n",
      "|     Country|sum(GoalsScored)|\n",
      "+------------+----------------+\n",
      "|     Uruguay|              70|\n",
      "|         USA|             141|\n",
      "| Switzerland|             140|\n",
      "|      Sweden|             126|\n",
      "|       Spain|             146|\n",
      "|South Africa|             145|\n",
      "|      Mexico|             227|\n",
      "| Korea/Japan|             161|\n",
      "|       Italy|             185|\n",
      "|     Germany|             244|\n",
      "|      France|             255|\n",
      "|     England|              89|\n",
      "|       Chile|              89|\n",
      "|      Brazil|             259|\n",
      "|   Argentina|             102|\n",
      "+------------+----------------+\n",
      "\n"
     ]
    }
   ],
   "source": [
    "## For each Stadium finding out the no of goals - DF\n",
    "df.select(['Country','GoalsScored'])\\\n",
    ".filter(df.GoalsScored!=0)\\\n",
    ".groupBy(df.Country).sum()\\\n",
    ".sort(df.Country,ascending=False).show()\n",
    "\n",
    "## Using DF \n",
    "\n",
    "# -> Once after converting to the DF using the Schema method\n",
    "# -> Now selected the necessary columns\n",
    "# -> Filtered the columns where goals is not zero\n",
    "# -> Sortkey by country and did Show operation on the DF to display the values"
   ]
  },
  {
   "cell_type": "code",
   "execution_count": null,
   "metadata": {},
   "outputs": [],
   "source": [
    "\n",
    "\n"
   ]
  },
  {
   "cell_type": "code",
   "execution_count": 56,
   "metadata": {},
   "outputs": [
    {
     "data": {
      "text/plain": [
       "['1994,USA,Brazil,Italy,Sweden,Bulgaria,141,24,52,3.587.538']"
      ]
     },
     "execution_count": 56,
     "metadata": {},
     "output_type": "execute_result"
    }
   ],
   "source": [
    "# 2 Filter USA Countries - RDD\n",
    "final_rdd.filter(lambda x:x.split(',')[1]=='USA')\\\n",
    ".collect()\n",
    "\n",
    "## Using RDD \n",
    "\n",
    "# -> As it treats everything as lines, so we have separated the fields with comma delimeter\n",
    "# -> Created a FIlter function for filtering the records where the Country is USA\n",
    "# -> Did collect operation on the rdd to display the values"
   ]
  },
  {
   "cell_type": "code",
   "execution_count": 58,
   "metadata": {},
   "outputs": [
    {
     "name": "stdout",
     "output_type": "stream",
     "text": [
      "+----+-------+------+---------+------+--------+-----------+--------------+-------------+----------+\n",
      "|Year|Country|Winner|Runnersup| Third|  Fourth|GoalsScored|QualifiedTeams|MatchesPlayed|Attendance|\n",
      "+----+-------+------+---------+------+--------+-----------+--------------+-------------+----------+\n",
      "|1994|    USA|Brazil|    Italy|Sweden|Bulgaria|        141|            24|           52| 3.587.538|\n",
      "+----+-------+------+---------+------+--------+-----------+--------------+-------------+----------+\n",
      "\n"
     ]
    }
   ],
   "source": [
    "# Filter USA Countries - DF\n",
    "df.filter(df.Country=='USA').show()\n",
    "\n",
    "## Using DF \n",
    "\n",
    "# -> Once after converting to the DF using the Schema method\n",
    "# -> Now  Filtered the columns where COuntry is not USA\n",
    "# -> Did Show operation on the DF to display the values"
   ]
  },
  {
   "cell_type": "code",
   "execution_count": null,
   "metadata": {},
   "outputs": [],
   "source": [
    "\n",
    "\n"
   ]
  },
  {
   "cell_type": "code",
   "execution_count": 79,
   "metadata": {},
   "outputs": [
    {
     "data": {
      "text/plain": [
       "['Argentina',\n",
       " 'Brazil',\n",
       " 'England',\n",
       " 'France',\n",
       " 'Germany FR',\n",
       " 'Germany',\n",
       " 'Italy',\n",
       " 'Spain',\n",
       " 'Uruguay']"
      ]
     },
     "execution_count": 79,
     "metadata": {},
     "output_type": "execute_result"
    }
   ],
   "source": [
    "# 3 Displaying the distinct Winners - RDD\n",
    "final_rdd.filter(lambda x:x.split(',')[2]!='null')\\\n",
    ".map(lambda x:x.split(',')[2]).distinct()\\\n",
    ".takeOrdered( 10,key = lambda x: x[0])\n",
    "\n",
    "## Using RDD \n",
    "\n",
    "# -> As it treats everything as lines, so we have separated the fields with comma delimeter\n",
    "# -> Created a Filter function for filtering the records where the 2nd Index is not NULL\n",
    "# -> Created a Map Function to get the exact 2 values info and performed Distinct transformation on it \n",
    "# -> Did takeOrdered operation on the rdd to display the values in a sorted ordered"
   ]
  },
  {
   "cell_type": "code",
   "execution_count": 82,
   "metadata": {},
   "outputs": [
    {
     "name": "stdout",
     "output_type": "stream",
     "text": [
      "+----------+\n",
      "|    Winner|\n",
      "+----------+\n",
      "| Argentina|\n",
      "|    Brazil|\n",
      "|   England|\n",
      "|    France|\n",
      "|   Germany|\n",
      "|Germany FR|\n",
      "|     Italy|\n",
      "|     Spain|\n",
      "|   Uruguay|\n",
      "+----------+\n",
      "only showing top 9 rows\n",
      "\n"
     ]
    }
   ],
   "source": [
    "# Displaying the distinct Winners - DF\n",
    "df.select(df.Winner).distinct().sort(df.Winner).show(9)\n",
    "\n",
    "## Using DF \n",
    "\n",
    "# -> Once after converting to the DF using the Schema method\n",
    "# -> Now selected the Winner column\n",
    "# -> Used Distinct transformation operation and sorted on the Winner column"
   ]
  },
  {
   "cell_type": "code",
   "execution_count": null,
   "metadata": {},
   "outputs": [],
   "source": [
    "\n",
    "\n"
   ]
  },
  {
   "cell_type": "code",
   "execution_count": 93,
   "metadata": {},
   "outputs": [
    {
     "data": {
      "text/plain": [
       "[['1930',\n",
       "  'Uruguay',\n",
       "  'Uruguay',\n",
       "  'Argentina',\n",
       "  'USA',\n",
       "  'Yugoslavia',\n",
       "  '70',\n",
       "  '13',\n",
       "  '18',\n",
       "  '590.549'],\n",
       " ['1934',\n",
       "  'Italy',\n",
       "  'Italy',\n",
       "  'Czechoslovakia',\n",
       "  'Germany',\n",
       "  'Austria',\n",
       "  '70',\n",
       "  '16',\n",
       "  '17',\n",
       "  '363.000'],\n",
       " ['1966',\n",
       "  'England',\n",
       "  'England',\n",
       "  'Germany FR',\n",
       "  'Portugal',\n",
       "  'Soviet Union',\n",
       "  '89',\n",
       "  '16',\n",
       "  '32',\n",
       "  '1.563.135'],\n",
       " ['1978',\n",
       "  'Argentina',\n",
       "  'Argentina',\n",
       "  'Netherlands',\n",
       "  'Brazil',\n",
       "  'Italy',\n",
       "  '102',\n",
       "  '16',\n",
       "  '38',\n",
       "  '1.545.791'],\n",
       " ['1998',\n",
       "  'France',\n",
       "  'France',\n",
       "  'Brazil',\n",
       "  'Croatia',\n",
       "  'Netherlands',\n",
       "  '171',\n",
       "  '32',\n",
       "  '64',\n",
       "  '2.785.100']]"
      ]
     },
     "execution_count": 93,
     "metadata": {},
     "output_type": "execute_result"
    }
   ],
   "source": [
    "# 4 Displaying the records where Country and Winner is same - RDD\n",
    "final_rdd.map(lambda x:x.split(','))\\\n",
    ".filter(lambda x :x[1]==x[2]).collect()\n",
    "\n",
    "\n",
    "## Using RDD \n",
    "\n",
    "# -> As it treats everything as lines, so we have separated the fields with comma delimeter\n",
    "# -> Created a Map Function to split the lines at the Comma separeted\n",
    "# -> Used a filter for fetching the records where the 1st and 2nd index value are same\n",
    "# -> Did collect action operation on the rdd to display the values in a sorted ordered"
   ]
  },
  {
   "cell_type": "code",
   "execution_count": 96,
   "metadata": {},
   "outputs": [
    {
     "name": "stdout",
     "output_type": "stream",
     "text": [
      "+----+---------+---------+--------------+--------+------------+-----------+--------------+-------------+----------+\n",
      "|Year|  Country|   Winner|     Runnersup|   Third|      Fourth|GoalsScored|QualifiedTeams|MatchesPlayed|Attendance|\n",
      "+----+---------+---------+--------------+--------+------------+-----------+--------------+-------------+----------+\n",
      "|1930|  Uruguay|  Uruguay|     Argentina|     USA|  Yugoslavia|         70|            13|           18|   590.549|\n",
      "|1934|    Italy|    Italy|Czechoslovakia| Germany|     Austria|         70|            16|           17|   363.000|\n",
      "|1966|  England|  England|    Germany FR|Portugal|Soviet Union|         89|            16|           32| 1.563.135|\n",
      "|1978|Argentina|Argentina|   Netherlands|  Brazil|       Italy|        102|            16|           38| 1.545.791|\n",
      "|1998|   France|   France|        Brazil| Croatia| Netherlands|        171|            32|           64| 2.785.100|\n",
      "+----+---------+---------+--------------+--------+------------+-----------+--------------+-------------+----------+\n",
      "\n"
     ]
    }
   ],
   "source": [
    "# Displaying the records where Country and Winner is same - RDD\n",
    "df.filter(df.Country==df.Winner)\\\n",
    ".show()\n",
    "\n",
    "## Using DF \n",
    "\n",
    "# -> Once after converting to the DF using the Schema method\n",
    "# -> Used filter operation on the Dataframe for fetching the records where Country and Winner is same\n",
    "# -> Used Show operation for displaying the records"
   ]
  },
  {
   "cell_type": "code",
   "execution_count": null,
   "metadata": {},
   "outputs": [],
   "source": [
    "\n",
    "\n"
   ]
  },
  {
   "cell_type": "code",
   "execution_count": 112,
   "metadata": {},
   "outputs": [
    {
     "data": {
      "text/plain": [
       "[('1930', '18'),\n",
       " ('1934', '17'),\n",
       " ('1938', '18'),\n",
       " ('1950', '22'),\n",
       " ('1954', '26'),\n",
       " ('1958', '35'),\n",
       " ('1962', '32'),\n",
       " ('1966', '32'),\n",
       " ('1970', '32'),\n",
       " ('1974', '38'),\n",
       " ('1978', '38'),\n",
       " ('1982', '52'),\n",
       " ('1986', '52'),\n",
       " ('1990', '52'),\n",
       " ('1994', '52'),\n",
       " ('1998', '64'),\n",
       " ('2002', '64'),\n",
       " ('2006', '64'),\n",
       " ('2010', '64'),\n",
       " ('2014', '64')]"
      ]
     },
     "execution_count": 112,
     "metadata": {},
     "output_type": "execute_result"
    }
   ],
   "source": [
    "# 5 Total People Attended in Each Year\n",
    "final_rdd.map(lambda x:(x.split(',')[0],x.split(',')[8]))\\\n",
    ".reduceByKey(lambda x,y:x+y).sortByKey().collect()\n",
    "\n",
    "## Using RDD \n",
    "\n",
    "# -> As it treats everything as lines, so we have separated the fields with comma delimeter\n",
    "# -> Created a Map Function to split the lines at the Comma separeted and taken only 0th and 8th index values\n",
    "# -> Used reduceByKey transformation on it for summing the records\n",
    "# -> Did and sortByKey and collect action operation on the rdd to display the values in a sorted ordered"
   ]
  },
  {
   "cell_type": "code",
   "execution_count": 114,
   "metadata": {},
   "outputs": [
    {
     "name": "stdout",
     "output_type": "stream",
     "text": [
      "+----+------------------+\n",
      "|Year|sum(MatchesPlayed)|\n",
      "+----+------------------+\n",
      "|1930|                18|\n",
      "|1934|                17|\n",
      "|1938|                18|\n",
      "|1950|                22|\n",
      "|1954|                26|\n",
      "|1958|                35|\n",
      "|1962|                32|\n",
      "|1966|                32|\n",
      "|1970|                32|\n",
      "|1974|                38|\n",
      "|1978|                38|\n",
      "|1982|                52|\n",
      "|1986|                52|\n",
      "|1990|                52|\n",
      "|1994|                52|\n",
      "|1998|                64|\n",
      "|2002|                64|\n",
      "|2006|                64|\n",
      "|2010|                64|\n",
      "|2014|                64|\n",
      "+----+------------------+\n",
      "\n"
     ]
    }
   ],
   "source": [
    "# Total People Attended in Each Year\n",
    "df = df.withColumn('MatchesPlayed', df['MatchesPlayed'].cast(IntegerType()))\n",
    "df.select(df.Year,df.MatchesPlayed)\\\n",
    ".filter(df.Year!='Year')\\\n",
    ".groupBy(df.Year).sum()\\\n",
    ".sort(df.Year).show()\n",
    "\n",
    "## Using DF \n",
    "\n",
    "# -> Once after converting to the DF using the Schema method\n",
    "# -> Converted the MatchesPlayed values to the Interger Type \n",
    "# -> Used Select for getting the necessary values \n",
    "# -> filter operation is used on the Dataframe for fetching the records where year doesn't has year\n",
    "# -> Used sort and Show operation for displaying the records"
   ]
  },
  {
   "cell_type": "code",
   "execution_count": null,
   "metadata": {},
   "outputs": [],
   "source": [
    "\n",
    "\n"
   ]
  },
  {
   "cell_type": "code",
   "execution_count": null,
   "metadata": {},
   "outputs": [],
   "source": [
    "## RDD VS DataFrame \n",
    "\n",
    "\n",
    "# Type Safe\n",
    "# RDD is Type safe whereas the Data frames are not Type Safe. When converting to the DF \n",
    "# from the RDD we need to give the Schema details describing about the data typr of each of the column. But \n",
    "# RDD is not required.\n",
    "\n",
    "\n",
    "# Regarding Optimization \n",
    "# When dealing with the RDD, optimization has to be taken care, like if we use at last stage \n",
    "# filter then till that park all records would be fetched. But in DF catalyst comes into the picture \n",
    "# which takes care this scenario\n",
    "\n",
    "\n",
    "# Compile Tym \n",
    "# Pyspark Dataframes at compile itself the errors are displayed where with the RDD only at the Runtime we\n",
    "# will kno the issues\n"
   ]
  }
 ],
 "metadata": {
  "kernelspec": {
   "display_name": "Python 3",
   "language": "python",
   "name": "python3"
  },
  "language_info": {
   "codemirror_mode": {
    "name": "ipython",
    "version": 3
   },
   "file_extension": ".py",
   "mimetype": "text/x-python",
   "name": "python",
   "nbconvert_exporter": "python",
   "pygments_lexer": "ipython3",
   "version": "3.6.8"
  }
 },
 "nbformat": 4,
 "nbformat_minor": 2
}
